{
 "cells": [
  {
   "cell_type": "markdown",
   "metadata": {
    "id": "mrTFv5nPClXh"
   },
   "source": [
    "# **Homework**: Data talks club data engineering zoomcamp Data loading workshop\n",
    "\n",
    "Hello folks, let's practice what we learned - Loading data with the best practices of data engineering.\n",
    "\n",
    "Here are the exercises we will do\n",
    "\n",
    "\n"
   ]
  },
  {
   "cell_type": "markdown",
   "metadata": {
    "id": "wLF4iXf-NR7t"
   },
   "source": [
    "# 1. Use a generator\n",
    "\n",
    "Remember the concept of generator? Let's practice using them to futher our understanding of how they work.\n",
    "\n",
    "Let's define a generator and then run it as practice.\n",
    "\n",
    "**Answer the following questions:**\n",
    "\n",
    "- **Question 1: What is the sum of the outputs of the generator for limit = 5?**\n",
    "- **Question 2: What is the 13th number yielded**\n",
    "\n",
    "I suggest practicing these questions without GPT as the purpose is to further your learning."
   ]
  },
  {
   "cell_type": "code",
   "execution_count": 8,
   "metadata": {
    "colab": {
     "base_uri": "https://localhost:8080/"
    },
    "id": "wLng-bDJN4jf",
    "outputId": "547683cb-5f56-4815-a903-d0d9578eb1f9"
   },
   "outputs": [
    {
     "name": "stdout",
     "output_type": "stream",
     "text": [
      "sum of squares with limit = 5 is: 8.382332347441762\n",
      "square root of 13 is: 3.605551275463989\n"
     ]
    }
   ],
   "source": [
    "def square_root_generator(limit):\n",
    "    n = 1\n",
    "    while n <= limit:\n",
    "        yield n ** 0.5\n",
    "        n += 1\n",
    "\n",
    "# Example usage:\n",
    "limit = 5\n",
    "generator = square_root_generator(limit)\n",
    "\n",
    "s = 0\n",
    "for sqrt_value in generator:\n",
    "    s += sqrt_value\n",
    "print(f\"sum of squares with limit = 5 is: {s}\")\n",
    "\n",
    "g = square_root_generator(13)\n",
    "i = 1\n",
    "while i < 13:\n",
    "    next(g)\n",
    "    i += 1\n",
    "print(f\"square root of 13 is: {next(g)}\")"
   ]
  },
  {
   "cell_type": "markdown",
   "metadata": {
    "id": "xbe3q55zN43j"
   },
   "source": []
  },
  {
   "cell_type": "markdown",
   "metadata": {
    "id": "vjWhILzGJMpK"
   },
   "source": [
    "# 2. Append a generator to a table with existing data\n",
    "\n",
    "\n",
    "Below you have 2 generators. You will be tasked to load them to duckdb and answer some questions from the data\n",
    "\n",
    "1. Load the first generator and calculate the sum of ages of all people. Make sure to only load it once.\n",
    "2. Append the second generator to the same table as the first.\n",
    "3. **After correctly appending the data, calculate the sum of all ages of people.**\n",
    "\n",
    "\n"
   ]
  },
  {
   "cell_type": "code",
   "execution_count": 19,
   "metadata": {
    "colab": {
     "base_uri": "https://localhost:8080/"
    },
    "id": "2MoaQcdLBEk6",
    "outputId": "d2b93dc1-d83f-44ea-aeff-fdf51d75f7aa"
   },
   "outputs": [
    {
     "name": "stdout",
     "output_type": "stream",
     "text": [
      "Pipeline dlt_ipykernel_launcher load step completed in 0.26 seconds\n",
      "1 load package(s) were loaded to destination duckdb and into dataset persons\n",
      "The duckdb destination used duckdb:////home/m13salama/csed/Data-Zoom-Camp/workshop1/workshops/dlt_resources/dlt_ipykernel_launcher.duckdb location to store data\n",
      "Load package 1708272307.757592 is LOADED and contains no failed jobs\n",
      "   sum(Age)\n",
      "0     140.0\n",
      "Pipeline dlt_ipykernel_launcher load step completed in 0.19 seconds\n",
      "1 load package(s) were loaded to destination duckdb and into dataset persons\n",
      "The duckdb destination used duckdb:////home/m13salama/csed/Data-Zoom-Camp/workshop1/workshops/dlt_resources/dlt_ipykernel_launcher.duckdb location to store data\n",
      "Load package 1708272308.4719362 is LOADED and contains no failed jobs\n",
      "   sum(Age)\n",
      "0     353.0\n"
     ]
    }
   ],
   "source": [
    "import dlt\n",
    "import duckdb\n",
    "\n",
    "persons_pipeline = dlt.pipeline(destination='duckdb', dataset_name='persons')\n",
    "\n",
    "def people_1():\n",
    "    for i in range(1, 6):\n",
    "        yield {\"ID\": i, \"Name\": f\"Person_{i}\", \"Age\": 25 + i, \"City\": \"City_A\"}\n",
    "\n",
    "info = persons_pipeline.run(people_1(), table_name=\"people\", write_disposition=\"replace\")\n",
    "\n",
    "print(info)\n",
    "\n",
    "conn = duckdb.connect(f\"{persons_pipeline.pipeline_name}.duckdb\")\n",
    "\n",
    "conn.sql(f\"SET search_path = '{persons_pipeline.dataset_name}'\")\n",
    "x = conn.sql(\"select sum(Age) from people\").df()\n",
    "print(x)\n",
    "def people_2():\n",
    "    for i in range(3, 9):\n",
    "        yield {\"ID\": i, \"Name\": f\"Person_{i}\", \"Age\": 30 + i, \"City\": \"City_B\", \"Occupation\": f\"Job_{i}\"}\n",
    "\n",
    "info = persons_pipeline.run(people_2(), table_name=\"people\", write_disposition=\"append\")\n",
    "\n",
    "print(info)\n",
    "\n",
    "x = conn.sql(\"select sum(Age) from people\").df()\n",
    "print(x)"
   ]
  },
  {
   "cell_type": "markdown",
   "metadata": {
    "id": "vtdTIm4fvQCN"
   },
   "source": []
  },
  {
   "cell_type": "markdown",
   "metadata": {
    "id": "pY4cFAWOSwN1"
   },
   "source": [
    "# 3. Merge a generator\n",
    "\n",
    "Re-use the generators from Exercise 2.\n",
    "\n",
    "A table's primary key needs to be created from the start, so load your data to a new table with primary key ID.\n",
    "\n",
    "Load your first generator first, and then load the second one with merge. Since they have overlapping IDs, some of the records from the first load should be replaced by the ones from the second load.\n",
    "\n",
    "After loading, you should have a total of 8 records, and ID 3 should have age 33.\n",
    "\n",
    "Question: **Calculate the sum of ages of all the people loaded as described above.**\n"
   ]
  },
  {
   "cell_type": "markdown",
   "metadata": {
    "id": "kKB2GTB9oVjr"
   },
   "source": [
    "# Solution: First make sure that the following modules are installed:"
   ]
  },
  {
   "cell_type": "code",
   "execution_count": null,
   "metadata": {
    "id": "xTVvtyqrfVNq"
   },
   "outputs": [],
   "source": [
    "#Install the dependencies\n",
    "%%capture\n",
    "!pip install dlt[duckdb]"
   ]
  },
  {
   "cell_type": "code",
   "execution_count": 20,
   "metadata": {
    "id": "a2-PRBAkGC2K"
   },
   "outputs": [
    {
     "name": "stdout",
     "output_type": "stream",
     "text": [
      "Pipeline dlt_ipykernel_launcher load step completed in 0.26 seconds\n",
      "1 load package(s) were loaded to destination duckdb and into dataset persons_merge\n",
      "The duckdb destination used duckdb:////home/m13salama/csed/Data-Zoom-Camp/workshop1/workshops/dlt_resources/dlt_ipykernel_launcher.duckdb location to store data\n",
      "Load package 1708273737.611089 is LOADED and contains no failed jobs\n",
      "   sum(Age)\n",
      "0     140.0\n",
      "Pipeline dlt_ipykernel_launcher load step completed in 0.43 seconds\n",
      "1 load package(s) were loaded to destination duckdb and into dataset persons_merge\n",
      "The duckdb destination used duckdb:////home/m13salama/csed/Data-Zoom-Camp/workshop1/workshops/dlt_resources/dlt_ipykernel_launcher.duckdb location to store data\n",
      "Load package 1708273738.2834673 is LOADED and contains no failed jobs\n",
      "   sum(Age)\n",
      "0     266.0\n"
     ]
    }
   ],
   "source": [
    "persons_pipeline = dlt.pipeline(destination='duckdb', dataset_name='persons_merge')\n",
    "info = persons_pipeline.run(people_1(), table_name=\"people\",primary_key=\"ID\", write_disposition=\"replace\")\n",
    "print(info)\n",
    "\n",
    "conn = duckdb.connect(f\"{persons_pipeline.pipeline_name}.duckdb\")\n",
    "conn.sql(f\"SET search_path = '{persons_pipeline.dataset_name}'\")\n",
    "x = conn.sql(\"select sum(Age) from people\").df()\n",
    "print(x)\n",
    "\n",
    "info = persons_pipeline.run(people_2(), table_name=\"people\",primary_key=\"ID\", write_disposition=\"merge\")\n",
    "print(info)\n",
    "\n",
    "x = conn.sql(\"select sum(Age) from people\").df()\n",
    "print(x)"
   ]
  },
  {
   "cell_type": "markdown",
   "metadata": {
    "id": "PoTJu4kbGG0z"
   },
   "source": [
    "Questions? difficulties? We are here to help.\n",
    "- DTC data engineering course channel: https://datatalks-club.slack.com/archives/C01FABYF2RG\n",
    "- dlt's DTC cohort channel: https://dlthub-community.slack.com/archives/C06GAEX2VNX"
   ]
  }
 ],
 "metadata": {
  "colab": {
   "provenance": []
  },
  "kernelspec": {
   "display_name": "Python 3 (ipykernel)",
   "language": "python",
   "name": "python3"
  },
  "language_info": {
   "codemirror_mode": {
    "name": "ipython",
    "version": 3
   },
   "file_extension": ".py",
   "mimetype": "text/x-python",
   "name": "python",
   "nbconvert_exporter": "python",
   "pygments_lexer": "ipython3",
   "version": "3.10.12"
  }
 },
 "nbformat": 4,
 "nbformat_minor": 4
}
